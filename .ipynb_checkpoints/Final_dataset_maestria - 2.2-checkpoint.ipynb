{
 "cells": [
  {
   "cell_type": "code",
   "execution_count": 1,
   "metadata": {},
   "outputs": [],
   "source": [
    "import pandas as pd"
   ]
  },
  {
   "cell_type": "code",
   "execution_count": 2,
   "metadata": {},
   "outputs": [],
   "source": [
    "import numpy as np"
   ]
  },
  {
   "cell_type": "code",
   "execution_count": 3,
   "metadata": {},
   "outputs": [],
   "source": [
    "import matplotlib.pyplot as plt\n",
    "import seaborn as sns\n",
    "%matplotlib inline"
   ]
  },
  {
   "cell_type": "markdown",
   "metadata": {},
   "source": [
    "### Creación de funciones auxiliares"
   ]
  },
  {
   "cell_type": "code",
   "execution_count": 76,
   "metadata": {},
   "outputs": [],
   "source": [
    "def discretize(df, column):\n",
    "    q1 = df_final[\"diff_time_days_minnone\"].quantile(.25)\n",
    "    q2 = df_final[\"diff_time_days_minnone\"].quantile(.5)\n",
    "    q3 = df_final[\"diff_time_days_minnone\"].quantile(.75)\n",
    "    df[column+\"_in_q1\"] = 0\n",
    "    df[column+\"_in_q2\"] = 0\n",
    "    df[column+\"_in_q3\"] = 0\n",
    "    df[column+\"_in_q4\"] = 0\n",
    "    df[column+\"_in_q1\"] = list(map(lambda x: 1 if x <=q1 else 0, df[column]))\n",
    "    df[column+\"_in_q2\"] = list(map(lambda x: 1 if (q1 < x and x <=q2) else 0, df[column]))\n",
    "    df[column+\"_in_q3\"] = list(map(lambda x: 1 if (q2 < x and x <=q3) else 0, df[column]))\n",
    "    df[column+\"_in_q4\"] = list(map(lambda x: 1 if x>q3 else 0, df[column]))\n",
    "    df.drop(column, axis=1, inplace=True)\n",
    "    return df"
   ]
  },
  {
   "cell_type": "code",
   "execution_count": 59,
   "metadata": {},
   "outputs": [],
   "source": [
    "def is_object(df,column,object_name):\n",
    "    df[\"is_\"+str(object_name)] = list(map(lambda x: 1 if x == object_name else 0, df[column]))\n",
    "    return df\n",
    "    "
   ]
  },
  {
   "cell_type": "markdown",
   "metadata": {},
   "source": [
    "## Cargamos los datasets para construir el dataset final"
   ]
  },
  {
   "cell_type": "code",
   "execution_count": 5,
   "metadata": {},
   "outputs": [],
   "source": [
    "df_first = pd.read_csv('first_part_dataset.csv')\n",
    "\n",
    "df_second = pd.read_csv('second_part_dataset.csv')\n",
    "\n",
    "df_thrid = pd.read_csv('thrid_part_dataset.csv')"
   ]
  },
  {
   "cell_type": "code",
   "execution_count": 6,
   "metadata": {},
   "outputs": [
    {
     "data": {
      "text/plain": [
       "array(['Unnamed: 0', 'Android', 'BlackBerry', 'Chrome', 'Computer',\n",
       "       'FreeBSD', 'Linux', 'Mac', 'Other', 'Smartphone', 'Tablet',\n",
       "       'Tizen', 'Ubuntu', 'Unknown', 'Windows', 'ad campaign hit',\n",
       "       'brand listing', 'checkout', 'conversion', 'generic listing',\n",
       "       'iOS', 'lead', 'search engine hit', 'searched products',\n",
       "       'staticpage', 'target', 'viewed product', 'visited site',\n",
       "       'person_id'], dtype=object)"
      ]
     },
     "execution_count": 6,
     "metadata": {},
     "output_type": "execute_result"
    }
   ],
   "source": [
    "df_first.columns.values"
   ]
  },
  {
   "cell_type": "code",
   "execution_count": 7,
   "metadata": {},
   "outputs": [],
   "source": [
    "df_first = df_first.rename(columns={'person_id': 'person'})\n",
    "\n",
    "df_first = df_first.drop(columns=['Unnamed: 0'])"
   ]
  },
  {
   "cell_type": "code",
   "execution_count": 8,
   "metadata": {},
   "outputs": [
    {
     "data": {
      "text/plain": [
       "array(['Unnamed: 0', 'person', 'diff_time_days_minnone',\n",
       "       'diff_time_daysnone', 'diff_time_dayscheckout',\n",
       "       'diff_time_daysconversion', 'diff_time_daysbrand listing',\n",
       "       'diff_time_dayssearch engine hit', 'diff_time_start_end', 'model',\n",
       "       'number_visits_model'], dtype=object)"
      ]
     },
     "execution_count": 8,
     "metadata": {},
     "output_type": "execute_result"
    }
   ],
   "source": [
    "df_second.columns.values"
   ]
  },
  {
   "cell_type": "code",
   "execution_count": 9,
   "metadata": {},
   "outputs": [],
   "source": [
    "df_second = df_second.drop(columns=['Unnamed: 0'])"
   ]
  },
  {
   "cell_type": "code",
   "execution_count": 10,
   "metadata": {},
   "outputs": [
    {
     "data": {
      "text/plain": [
       "array(['Unnamed: 0', 'person', 'COUNT(users_logs)', 'avg_time_events'],\n",
       "      dtype=object)"
      ]
     },
     "execution_count": 10,
     "metadata": {},
     "output_type": "execute_result"
    }
   ],
   "source": [
    "df_thrid.columns.values"
   ]
  },
  {
   "cell_type": "code",
   "execution_count": 11,
   "metadata": {},
   "outputs": [],
   "source": [
    "df_thrid = df_thrid.drop(columns=['Unnamed: 0'])"
   ]
  },
  {
   "cell_type": "code",
   "execution_count": 12,
   "metadata": {},
   "outputs": [],
   "source": [
    "df_final = pd.merge(df_first, df_second, on='person', how='left')\n",
    "\n",
    "df_final = pd.merge(df_final, df_thrid, on='person', how='left')"
   ]
  },
  {
   "cell_type": "code",
   "execution_count": 13,
   "metadata": {},
   "outputs": [
    {
     "data": {
      "text/plain": [
       "array(['Android', 'BlackBerry', 'Chrome', 'Computer', 'FreeBSD', 'Linux',\n",
       "       'Mac', 'Other', 'Smartphone', 'Tablet', 'Tizen', 'Ubuntu',\n",
       "       'Unknown', 'Windows', 'ad campaign hit', 'brand listing',\n",
       "       'checkout', 'conversion', 'generic listing', 'iOS', 'lead',\n",
       "       'search engine hit', 'searched products', 'staticpage', 'target',\n",
       "       'viewed product', 'visited site', 'person',\n",
       "       'diff_time_days_minnone', 'diff_time_daysnone',\n",
       "       'diff_time_dayscheckout', 'diff_time_daysconversion',\n",
       "       'diff_time_daysbrand listing', 'diff_time_dayssearch engine hit',\n",
       "       'diff_time_start_end', 'model', 'number_visits_model',\n",
       "       'COUNT(users_logs)', 'avg_time_events'], dtype=object)"
      ]
     },
     "execution_count": 13,
     "metadata": {},
     "output_type": "execute_result"
    }
   ],
   "source": [
    "df_final.columns.values"
   ]
  },
  {
   "cell_type": "markdown",
   "metadata": {},
   "source": [
    "Significado de las columnas:\n",
    "\n",
    " - Las columnas 'Android', 'BlackBerry', 'Chrome', 'FreeBSD', 'Linux', 'Mac', 'Tizen', 'Ubuntu', 'Unknown', 'Windows','iOS' indican la cantidad de veces que cada usuario ingreso a la pagina de Trocafone utilizando uno de esos esos sistemas operativos. Por ejemplo, si el valor de 'Android' para un usuario es 2 siginfica que ese usuario entro a la pagina dos veces desde un dispositivo con un sistema operativo Android\n",
    " \n",
    " - Las columnas 'Computer', 'Smartphone', 'Tablet' indican la cantidad de veces que cada usuario ingreso a la pagina de Trocafone utilizando uno de esos dispositivos\n",
    " \n",
    " - Las columnas 'ad campaign hit', 'brand listing', 'checkout', 'conversion', 'generic listing', 'lead','search engine hit', 'searched products', 'staticpage','viewed product', 'visited site' indican la cantidad de veces que cada usuario realizo cada uno de esos eventos\n",
    " \n",
    " - La columna 'diff_time_days_minnone' indica la cantidad de tiempo que paso desde el primer evento que realizo el usuario hasta el 2018/06/01\n",
    " \n",
    " - La columna 'diff_time_daysnone' indica la cantidad de tiempo que paso desde el ultimo evento que el usuario realizo en la pagina hasta el 2018/06/01\n",
    " \n",
    " - La columna 'diff_time_dayscheckout' indica la cantidad de tiempo que paso desde que el usuario realizo el ultimo checkout hasta el 2018/06/01\n",
    " \n",
    " - La columna 'diff_time_daysconversion' indica la cantidad de tiempo que paso desde que el usuario realizo la ultima conversion hasta el 2018/06/01\n",
    " \n",
    " - La columna 'diff_time_daysbrand listing' indica la cantidad de tiempo que paso desde que el usuario realizo la ultima brand listing hasta el 2018/06/01\n",
    " \n",
    " - La columna 'diff_time_dayssearch engine hit' indica la cantidad de tiempo que paso desde que el usuario realizo el ultimo engine hit hasta el 2018/06/01\n",
    " \n",
    " - La columna 'diff_time_start_end' indica la cantidad de tiempo que paso entre el primer evento que realizo el usuario en la pagina y el ultimo\n",
    " \n",
    " - La columna 'model' indica el modelo de celuar que el usuario mas veces visito\n",
    " \n",
    " - La columna 'number_visits_model' indica cuantas veces el usuario visito el celular que mas visito\n",
    " \n",
    " - La columna 'COUNT(users_logs)' indica la cantidad de eventos que el usuario realizo en la pagina\n",
    " \n",
    " - La columna 'avg_time_events' indica el tiempo promedio que paso entre los eventos realizados por cada usuario"
   ]
  },
  {
   "cell_type": "markdown",
   "metadata": {},
   "source": [
    "## Reemplazamos con zeros los NaNs"
   ]
  },
  {
   "cell_type": "code",
   "execution_count": 14,
   "metadata": {},
   "outputs": [],
   "source": [
    "df_final.fillna(value=0,inplace=True)"
   ]
  },
  {
   "cell_type": "code",
   "execution_count": 15,
   "metadata": {},
   "outputs": [
    {
     "data": {
      "text/plain": [
       "Index(['Android', 'BlackBerry', 'Chrome', 'Computer', 'FreeBSD', 'Linux',\n",
       "       'Mac', 'Other', 'Smartphone', 'Tablet', 'Tizen', 'Ubuntu', 'Unknown',\n",
       "       'Windows', 'ad campaign hit', 'brand listing', 'checkout', 'conversion',\n",
       "       'generic listing', 'iOS', 'lead', 'search engine hit',\n",
       "       'searched products', 'staticpage', 'target', 'viewed product',\n",
       "       'visited site', 'person', 'diff_time_days_minnone',\n",
       "       'diff_time_daysnone', 'diff_time_dayscheckout',\n",
       "       'diff_time_daysconversion', 'diff_time_daysbrand listing',\n",
       "       'diff_time_dayssearch engine hit', 'diff_time_start_end', 'model',\n",
       "       'number_visits_model', 'COUNT(users_logs)', 'avg_time_events'],\n",
       "      dtype='object')"
      ]
     },
     "execution_count": 15,
     "metadata": {},
     "output_type": "execute_result"
    }
   ],
   "source": [
    "df_final.columns"
   ]
  },
  {
   "cell_type": "markdown",
   "metadata": {},
   "source": [
    "### Eliminamos las columnas con muy pocas variables o alta corrleación (Windows ~ Computer)"
   ]
  },
  {
   "cell_type": "code",
   "execution_count": 16,
   "metadata": {},
   "outputs": [],
   "source": [
    "df_final.drop([\"BlackBerry\",\"Chrome\",\"FreeBSD\",\"Linux\",\"Mac\",\"Other\",\"Tizen\",\"Ubuntu\",\"Unknown\",\"Windows\"],axis=1,inplace=True)\n",
    "\n",
    "\n"
   ]
  },
  {
   "cell_type": "markdown",
   "metadata": {},
   "source": [
    "### Transformamos algunas columnas para que su distribución se ajuste a una Chi cuadrado o Normal. Luego discretizamos por cuantiles"
   ]
  },
  {
   "cell_type": "code",
   "execution_count": 17,
   "metadata": {},
   "outputs": [],
   "source": [
    "df_final.loc[:,\"diff_time_daysnone\"] = np.log10(df_final[\"diff_time_daysnone\"]+1.)"
   ]
  },
  {
   "cell_type": "code",
   "execution_count": 18,
   "metadata": {},
   "outputs": [],
   "source": [
    "df_final.loc[:,\"diff_time_days_minnone\"] = np.log10(df_final.diff_time_days_minnone+1.)"
   ]
  },
  {
   "cell_type": "code",
   "execution_count": 19,
   "metadata": {},
   "outputs": [],
   "source": [
    "df_final.loc[:,\"diff_time_dayssearch engine hit\"] = np.log10(df_final[\"diff_time_dayssearch engine hit\"]+1.0)"
   ]
  },
  {
   "cell_type": "code",
   "execution_count": 20,
   "metadata": {},
   "outputs": [],
   "source": [
    "df_final.loc[:,\"COUNT(users_logs)\"] = np.log10(df_final[\"COUNT(users_logs)\"]+1.)"
   ]
  },
  {
   "cell_type": "code",
   "execution_count": 21,
   "metadata": {},
   "outputs": [],
   "source": [
    "df_final.loc[:,\"number_visits_model\"] = np.log10(1.+df_final.number_visits_model)"
   ]
  },
  {
   "cell_type": "code",
   "execution_count": 22,
   "metadata": {},
   "outputs": [],
   "source": [
    "df_final.loc[:,\"diff_time_daysbrand listing\"] = np.log10(01.+df_final[\"diff_time_daysbrand listing\"])"
   ]
  },
  {
   "cell_type": "code",
   "execution_count": null,
   "metadata": {},
   "outputs": [],
   "source": [
    "for column in [\"diff_time_days_minnone\",\"diff_time_dayssearch engine hit\",\"COUNT(users_logs)\",\"number_visits_model\",\"diff_time_daysbrand listing\",\"diff_time_daysnone\"]:\n",
    "    df_final = discretize(df_final,column)\n",
    "    "
   ]
  },
  {
   "cell_type": "code",
   "execution_count": 27,
   "metadata": {},
   "outputs": [],
   "source": [
    "df_final[\"marca\"] = df_final.model.str.split(\" \",1,expand=True)[0]\n",
    "df_final[\"modelo\"] = df_final.model.str.split(\" \",1,expand=True)[1]"
   ]
  },
  {
   "cell_type": "code",
   "execution_count": 28,
   "metadata": {},
   "outputs": [
    {
     "data": {
      "text/plain": [
       "iPhone      8017\n",
       "Samsung     7663\n",
       "Motorola    2257\n",
       "LG           301\n",
       "Lenovo       146\n",
       "Sony         108\n",
       "iPad          36\n",
       "Asus          31\n",
       "Quantum       11\n",
       "Name: marca, dtype: int64"
      ]
     },
     "execution_count": 28,
     "metadata": {},
     "output_type": "execute_result"
    }
   ],
   "source": [
    "df_final[\"marca\"].value_counts()"
   ]
  },
  {
   "cell_type": "code",
   "execution_count": 29,
   "metadata": {},
   "outputs": [
    {
     "data": {
      "text/plain": [
       "6                               1752\n",
       "5s                              1639\n",
       "6S                              1361\n",
       "Galaxy J5                       1022\n",
       "7                                703\n",
       "7 Plus                           613\n",
       "Galaxy S8                        609\n",
       "Galaxy S7                        604\n",
       "Galaxy S7 Edge                   603\n",
       "Galaxy J7 Prime                  489\n",
       "Moto G2 3G Dual                  404\n",
       "Galaxy S6 Edge                   393\n",
       "Galaxy S6 Flat                   386\n",
       "5c                               352\n",
       "6S Plus                          344\n",
       "Galaxy J7                        337\n",
       "6 Plus                           337\n",
       "Moto G4 Plus                     313\n",
       "SE                               311\n",
       "Galaxy Gran Prime Duos TV        245\n",
       "4S                               232\n",
       "Galaxy S8 Plus                   230\n",
       "5                                223\n",
       "Moto G3 4G                       191\n",
       "Galaxy A5 2017                   185\n",
       "Moto X Play 4G Dual              174\n",
       "Moto G5 Plus                     169\n",
       "Galaxy A7 2017                   164\n",
       "Moto X2                          160\n",
       "Galaxy A5                        155\n",
       "                                ... \n",
       "Xperia Z5                          5\n",
       "G3 Beat D724                       5\n",
       "Moto Z Power Edition               4\n",
       "Air Wi-Fi + 4G                     3\n",
       "Air 2 Wi-Fi + 4G                   3\n",
       "Galaxy J7 PRO                      3\n",
       "Zenfone 6                          2\n",
       "Galaxy S5 Mini                     2\n",
       "2 Wi-Fi + 3G                       2\n",
       "Moto Z2 Force                      2\n",
       "Muv Pro                            2\n",
       "Galaxy Tab 3 10.1 Wi-Fi + 3G       2\n",
       "Air 2 Wi-Fi                        2\n",
       "Air Wi-Fi                          2\n",
       "G4 Stylus H630                     2\n",
       "Live                               1\n",
       "Galaxy Tab S2 8 Wi-Fi + 4G         1\n",
       "Galaxy Tab E 9.6 Wi-Fi             1\n",
       "Mini 3 Wi-Fi + 4G                  1\n",
       "X Power                            1\n",
       "Mini 3 Wi-Fi                       1\n",
       "Mini Wi-Fi                         1\n",
       "Zenfone 2 Laser                    1\n",
       "Muv                                1\n",
       "Galaxy Tab E 7 Wi-Fi               1\n",
       "Xperia Z5 Premium                  1\n",
       "Galaxy Tab Pro 10.1 Wi-Fi          1\n",
       "YOU                                1\n",
       "Galaxy Tab S 8.4 Wi-Fi + 4G        1\n",
       "Galaxy S4 i9500                    1\n",
       "Name: modelo, Length: 162, dtype: int64"
      ]
     },
     "execution_count": 29,
     "metadata": {},
     "output_type": "execute_result"
    }
   ],
   "source": [
    "df_final[\"modelo\"].value_counts()"
   ]
  },
  {
   "cell_type": "code",
   "execution_count": 26,
   "metadata": {},
   "outputs": [],
   "source": [
    "df_final[\"is_iphone\"] = list(map(lambda x: 1 if x==\"iPhone\" else 0, df_final[\"marca\"]))\n",
    "df_final[\"is_samsung\"] = list(map(lambda x: 1 if x==\"Samsung\" else 0, df_final[\"marca\"]))\n",
    "df_final[\"is_motorola\"] = list(map(lambda x: 1 if x==\"Motorola\" else 0, df_final[\"marca\"]))\n",
    "df_final[\"is_lg\"] = list(map(lambda x: 1 if x==\"LG\" else 0, df_final[\"marca\"]))\n",
    "df_final[\"is_sony\"] = list(map(lambda x: 1 if x==\"Sony\" else 0, df_final[\"marca\"]))\n",
    "df_final[\"is_other\"] = list(map(lambda x: 1 if (x!=\"Sony\" and x!=\"LG\" and x!=\"Motorola\" and x!=\"Samsung\" and x!=\"iPhone\") else 0, df_final[\"marca\"]))\n"
   ]
  },
  {
   "cell_type": "code",
   "execution_count": 67,
   "metadata": {},
   "outputs": [],
   "source": [
    "pop_models = ['6','5s','6S','Galaxy J5','7','7 Plus','Galaxy S8','Galaxy S7','Galaxy S7 Edge','Galaxy J7 Prime','Moto G2 3G Dual','Galaxy S6 Edge','Galaxy S6 Flat','5c','6S Plus','Galaxy J7','6 Plus','Moto G4 Plus','SE','Galaxy Gran Prime Duos TV','4S','Galaxy S8 Plus','5','Moto G3 4G','Galaxy A5 2017','Moto X Play 4G Dual','Moto G5 Plus','Galaxy A7 2017','Moto X2','Galaxy A5']"
   ]
  },
  {
   "cell_type": "code",
   "execution_count": 65,
   "metadata": {},
   "outputs": [],
   "source": [
    "for model in pop_models:\n",
    "    df_final = is_object(df_final,\"modelo\",model)"
   ]
  },
  {
   "cell_type": "code",
   "execution_count": 68,
   "metadata": {},
   "outputs": [],
   "source": [
    "df_final[\"is_other_model\"] = list(map(lambda x: 1 if x not in pop_models else 0, df_final[\"modelo\"]))"
   ]
  },
  {
   "cell_type": "code",
   "execution_count": 71,
   "metadata": {},
   "outputs": [
    {
     "data": {
      "text/html": [
       "<div>\n",
       "<style scoped>\n",
       "    .dataframe tbody tr th:only-of-type {\n",
       "        vertical-align: middle;\n",
       "    }\n",
       "\n",
       "    .dataframe tbody tr th {\n",
       "        vertical-align: top;\n",
       "    }\n",
       "\n",
       "    .dataframe thead th {\n",
       "        text-align: right;\n",
       "    }\n",
       "</style>\n",
       "<table border=\"1\" class=\"dataframe\">\n",
       "  <thead>\n",
       "    <tr style=\"text-align: right;\">\n",
       "      <th></th>\n",
       "      <th>marca</th>\n",
       "      <th>modelo</th>\n",
       "      <th>is_other_model</th>\n",
       "    </tr>\n",
       "  </thead>\n",
       "  <tbody>\n",
       "    <tr>\n",
       "      <th>0</th>\n",
       "      <td>NaN</td>\n",
       "      <td>NaN</td>\n",
       "      <td>1</td>\n",
       "    </tr>\n",
       "    <tr>\n",
       "      <th>1</th>\n",
       "      <td>iPhone</td>\n",
       "      <td>7</td>\n",
       "      <td>0</td>\n",
       "    </tr>\n",
       "    <tr>\n",
       "      <th>2</th>\n",
       "      <td>iPhone</td>\n",
       "      <td>6S</td>\n",
       "      <td>0</td>\n",
       "    </tr>\n",
       "    <tr>\n",
       "      <th>3</th>\n",
       "      <td>Motorola</td>\n",
       "      <td>Moto G2 3G Dual</td>\n",
       "      <td>0</td>\n",
       "    </tr>\n",
       "    <tr>\n",
       "      <th>4</th>\n",
       "      <td>Samsung</td>\n",
       "      <td>Galaxy S8 Plus</td>\n",
       "      <td>0</td>\n",
       "    </tr>\n",
       "    <tr>\n",
       "      <th>5</th>\n",
       "      <td>iPhone</td>\n",
       "      <td>6</td>\n",
       "      <td>0</td>\n",
       "    </tr>\n",
       "    <tr>\n",
       "      <th>6</th>\n",
       "      <td>iPhone</td>\n",
       "      <td>6S</td>\n",
       "      <td>0</td>\n",
       "    </tr>\n",
       "    <tr>\n",
       "      <th>7</th>\n",
       "      <td>iPhone</td>\n",
       "      <td>5s</td>\n",
       "      <td>0</td>\n",
       "    </tr>\n",
       "    <tr>\n",
       "      <th>8</th>\n",
       "      <td>Samsung</td>\n",
       "      <td>Galaxy A5</td>\n",
       "      <td>0</td>\n",
       "    </tr>\n",
       "    <tr>\n",
       "      <th>9</th>\n",
       "      <td>Samsung</td>\n",
       "      <td>Galaxy S3 Mini</td>\n",
       "      <td>1</td>\n",
       "    </tr>\n",
       "    <tr>\n",
       "      <th>10</th>\n",
       "      <td>iPhone</td>\n",
       "      <td>6</td>\n",
       "      <td>0</td>\n",
       "    </tr>\n",
       "    <tr>\n",
       "      <th>11</th>\n",
       "      <td>iPhone</td>\n",
       "      <td>6S Plus</td>\n",
       "      <td>0</td>\n",
       "    </tr>\n",
       "    <tr>\n",
       "      <th>12</th>\n",
       "      <td>Motorola</td>\n",
       "      <td>Moto MAXX</td>\n",
       "      <td>1</td>\n",
       "    </tr>\n",
       "    <tr>\n",
       "      <th>13</th>\n",
       "      <td>iPhone</td>\n",
       "      <td>5</td>\n",
       "      <td>0</td>\n",
       "    </tr>\n",
       "    <tr>\n",
       "      <th>14</th>\n",
       "      <td>Samsung</td>\n",
       "      <td>Galaxy J7</td>\n",
       "      <td>0</td>\n",
       "    </tr>\n",
       "    <tr>\n",
       "      <th>15</th>\n",
       "      <td>iPhone</td>\n",
       "      <td>5s</td>\n",
       "      <td>0</td>\n",
       "    </tr>\n",
       "    <tr>\n",
       "      <th>16</th>\n",
       "      <td>Motorola</td>\n",
       "      <td>Moto Z Play</td>\n",
       "      <td>1</td>\n",
       "    </tr>\n",
       "    <tr>\n",
       "      <th>17</th>\n",
       "      <td>Samsung</td>\n",
       "      <td>Galaxy S8 Plus</td>\n",
       "      <td>0</td>\n",
       "    </tr>\n",
       "    <tr>\n",
       "      <th>18</th>\n",
       "      <td>NaN</td>\n",
       "      <td>NaN</td>\n",
       "      <td>1</td>\n",
       "    </tr>\n",
       "    <tr>\n",
       "      <th>19</th>\n",
       "      <td>iPhone</td>\n",
       "      <td>6</td>\n",
       "      <td>0</td>\n",
       "    </tr>\n",
       "    <tr>\n",
       "      <th>20</th>\n",
       "      <td>Samsung</td>\n",
       "      <td>Galaxy S5</td>\n",
       "      <td>1</td>\n",
       "    </tr>\n",
       "    <tr>\n",
       "      <th>21</th>\n",
       "      <td>Samsung</td>\n",
       "      <td>Galaxy E5 4G Duos</td>\n",
       "      <td>1</td>\n",
       "    </tr>\n",
       "    <tr>\n",
       "      <th>22</th>\n",
       "      <td>Samsung</td>\n",
       "      <td>Galaxy A7 2017</td>\n",
       "      <td>0</td>\n",
       "    </tr>\n",
       "    <tr>\n",
       "      <th>23</th>\n",
       "      <td>Samsung</td>\n",
       "      <td>Galaxy Core 2 Duos</td>\n",
       "      <td>1</td>\n",
       "    </tr>\n",
       "    <tr>\n",
       "      <th>24</th>\n",
       "      <td>LG</td>\n",
       "      <td>K10 Novo</td>\n",
       "      <td>1</td>\n",
       "    </tr>\n",
       "    <tr>\n",
       "      <th>25</th>\n",
       "      <td>iPhone</td>\n",
       "      <td>5s</td>\n",
       "      <td>0</td>\n",
       "    </tr>\n",
       "    <tr>\n",
       "      <th>26</th>\n",
       "      <td>iPhone</td>\n",
       "      <td>5s</td>\n",
       "      <td>0</td>\n",
       "    </tr>\n",
       "    <tr>\n",
       "      <th>27</th>\n",
       "      <td>iPhone</td>\n",
       "      <td>6S</td>\n",
       "      <td>0</td>\n",
       "    </tr>\n",
       "    <tr>\n",
       "      <th>28</th>\n",
       "      <td>iPhone</td>\n",
       "      <td>SE</td>\n",
       "      <td>0</td>\n",
       "    </tr>\n",
       "    <tr>\n",
       "      <th>29</th>\n",
       "      <td>iPhone</td>\n",
       "      <td>6</td>\n",
       "      <td>0</td>\n",
       "    </tr>\n",
       "    <tr>\n",
       "      <th>...</th>\n",
       "      <td>...</td>\n",
       "      <td>...</td>\n",
       "      <td>...</td>\n",
       "    </tr>\n",
       "    <tr>\n",
       "      <th>19384</th>\n",
       "      <td>Motorola</td>\n",
       "      <td>Moto G3 4G</td>\n",
       "      <td>0</td>\n",
       "    </tr>\n",
       "    <tr>\n",
       "      <th>19385</th>\n",
       "      <td>Samsung</td>\n",
       "      <td>Galaxy J5</td>\n",
       "      <td>0</td>\n",
       "    </tr>\n",
       "    <tr>\n",
       "      <th>19386</th>\n",
       "      <td>Motorola</td>\n",
       "      <td>Moto G4 Plus</td>\n",
       "      <td>0</td>\n",
       "    </tr>\n",
       "    <tr>\n",
       "      <th>19387</th>\n",
       "      <td>iPhone</td>\n",
       "      <td>6</td>\n",
       "      <td>0</td>\n",
       "    </tr>\n",
       "    <tr>\n",
       "      <th>19388</th>\n",
       "      <td>Samsung</td>\n",
       "      <td>Galaxy J5</td>\n",
       "      <td>0</td>\n",
       "    </tr>\n",
       "    <tr>\n",
       "      <th>19389</th>\n",
       "      <td>Motorola</td>\n",
       "      <td>Moto Z2 Play</td>\n",
       "      <td>1</td>\n",
       "    </tr>\n",
       "    <tr>\n",
       "      <th>19390</th>\n",
       "      <td>Samsung</td>\n",
       "      <td>Galaxy J2 4G Duos TV</td>\n",
       "      <td>1</td>\n",
       "    </tr>\n",
       "    <tr>\n",
       "      <th>19391</th>\n",
       "      <td>iPhone</td>\n",
       "      <td>5s</td>\n",
       "      <td>0</td>\n",
       "    </tr>\n",
       "    <tr>\n",
       "      <th>19392</th>\n",
       "      <td>Samsung</td>\n",
       "      <td>Galaxy J1 Mini</td>\n",
       "      <td>1</td>\n",
       "    </tr>\n",
       "    <tr>\n",
       "      <th>19393</th>\n",
       "      <td>iPhone</td>\n",
       "      <td>5c</td>\n",
       "      <td>0</td>\n",
       "    </tr>\n",
       "    <tr>\n",
       "      <th>19394</th>\n",
       "      <td>iPhone</td>\n",
       "      <td>6</td>\n",
       "      <td>0</td>\n",
       "    </tr>\n",
       "    <tr>\n",
       "      <th>19395</th>\n",
       "      <td>Samsung</td>\n",
       "      <td>Galaxy S5</td>\n",
       "      <td>1</td>\n",
       "    </tr>\n",
       "    <tr>\n",
       "      <th>19396</th>\n",
       "      <td>Samsung</td>\n",
       "      <td>Galaxy J5</td>\n",
       "      <td>0</td>\n",
       "    </tr>\n",
       "    <tr>\n",
       "      <th>19397</th>\n",
       "      <td>iPhone</td>\n",
       "      <td>5s</td>\n",
       "      <td>0</td>\n",
       "    </tr>\n",
       "    <tr>\n",
       "      <th>19398</th>\n",
       "      <td>Samsung</td>\n",
       "      <td>Galaxy S7 Edge</td>\n",
       "      <td>0</td>\n",
       "    </tr>\n",
       "    <tr>\n",
       "      <th>19399</th>\n",
       "      <td>iPhone</td>\n",
       "      <td>6S</td>\n",
       "      <td>0</td>\n",
       "    </tr>\n",
       "    <tr>\n",
       "      <th>19400</th>\n",
       "      <td>iPhone</td>\n",
       "      <td>5</td>\n",
       "      <td>0</td>\n",
       "    </tr>\n",
       "    <tr>\n",
       "      <th>19401</th>\n",
       "      <td>Samsung</td>\n",
       "      <td>Galaxy S7 Edge</td>\n",
       "      <td>0</td>\n",
       "    </tr>\n",
       "    <tr>\n",
       "      <th>19402</th>\n",
       "      <td>iPhone</td>\n",
       "      <td>6</td>\n",
       "      <td>0</td>\n",
       "    </tr>\n",
       "    <tr>\n",
       "      <th>19403</th>\n",
       "      <td>Samsung</td>\n",
       "      <td>Galaxy A7 2017</td>\n",
       "      <td>0</td>\n",
       "    </tr>\n",
       "    <tr>\n",
       "      <th>19404</th>\n",
       "      <td>Samsung</td>\n",
       "      <td>Galaxy J5</td>\n",
       "      <td>0</td>\n",
       "    </tr>\n",
       "    <tr>\n",
       "      <th>19405</th>\n",
       "      <td>Samsung</td>\n",
       "      <td>Galaxy S8</td>\n",
       "      <td>0</td>\n",
       "    </tr>\n",
       "    <tr>\n",
       "      <th>19406</th>\n",
       "      <td>Motorola</td>\n",
       "      <td>Moto X Play 4G Dual</td>\n",
       "      <td>0</td>\n",
       "    </tr>\n",
       "    <tr>\n",
       "      <th>19407</th>\n",
       "      <td>Samsung</td>\n",
       "      <td>Galaxy S6 Flat</td>\n",
       "      <td>0</td>\n",
       "    </tr>\n",
       "    <tr>\n",
       "      <th>19408</th>\n",
       "      <td>iPhone</td>\n",
       "      <td>6S</td>\n",
       "      <td>0</td>\n",
       "    </tr>\n",
       "    <tr>\n",
       "      <th>19409</th>\n",
       "      <td>Motorola</td>\n",
       "      <td>Moto G4 Plus</td>\n",
       "      <td>0</td>\n",
       "    </tr>\n",
       "    <tr>\n",
       "      <th>19410</th>\n",
       "      <td>Motorola</td>\n",
       "      <td>Moto G4 Plus</td>\n",
       "      <td>0</td>\n",
       "    </tr>\n",
       "    <tr>\n",
       "      <th>19411</th>\n",
       "      <td>Motorola</td>\n",
       "      <td>Moto G3 4G</td>\n",
       "      <td>0</td>\n",
       "    </tr>\n",
       "    <tr>\n",
       "      <th>19412</th>\n",
       "      <td>Samsung</td>\n",
       "      <td>Galaxy A5 2017</td>\n",
       "      <td>0</td>\n",
       "    </tr>\n",
       "    <tr>\n",
       "      <th>19413</th>\n",
       "      <td>iPhone</td>\n",
       "      <td>7 Plus</td>\n",
       "      <td>0</td>\n",
       "    </tr>\n",
       "  </tbody>\n",
       "</table>\n",
       "<p>19414 rows × 3 columns</p>\n",
       "</div>"
      ],
      "text/plain": [
       "          marca                modelo  is_other_model\n",
       "0           NaN                   NaN               1\n",
       "1        iPhone                     7               0\n",
       "2        iPhone                    6S               0\n",
       "3      Motorola       Moto G2 3G Dual               0\n",
       "4       Samsung        Galaxy S8 Plus               0\n",
       "5        iPhone                     6               0\n",
       "6        iPhone                    6S               0\n",
       "7        iPhone                    5s               0\n",
       "8       Samsung             Galaxy A5               0\n",
       "9       Samsung        Galaxy S3 Mini               1\n",
       "10       iPhone                     6               0\n",
       "11       iPhone               6S Plus               0\n",
       "12     Motorola            Moto MAXX                1\n",
       "13       iPhone                     5               0\n",
       "14      Samsung             Galaxy J7               0\n",
       "15       iPhone                    5s               0\n",
       "16     Motorola           Moto Z Play               1\n",
       "17      Samsung        Galaxy S8 Plus               0\n",
       "18          NaN                   NaN               1\n",
       "19       iPhone                     6               0\n",
       "20      Samsung             Galaxy S5               1\n",
       "21      Samsung     Galaxy E5 4G Duos               1\n",
       "22      Samsung        Galaxy A7 2017               0\n",
       "23      Samsung    Galaxy Core 2 Duos               1\n",
       "24           LG              K10 Novo               1\n",
       "25       iPhone                    5s               0\n",
       "26       iPhone                    5s               0\n",
       "27       iPhone                    6S               0\n",
       "28       iPhone                    SE               0\n",
       "29       iPhone                     6               0\n",
       "...         ...                   ...             ...\n",
       "19384  Motorola            Moto G3 4G               0\n",
       "19385   Samsung             Galaxy J5               0\n",
       "19386  Motorola          Moto G4 Plus               0\n",
       "19387    iPhone                     6               0\n",
       "19388   Samsung             Galaxy J5               0\n",
       "19389  Motorola          Moto Z2 Play               1\n",
       "19390   Samsung  Galaxy J2 4G Duos TV               1\n",
       "19391    iPhone                    5s               0\n",
       "19392   Samsung        Galaxy J1 Mini               1\n",
       "19393    iPhone                    5c               0\n",
       "19394    iPhone                     6               0\n",
       "19395   Samsung             Galaxy S5               1\n",
       "19396   Samsung             Galaxy J5               0\n",
       "19397    iPhone                    5s               0\n",
       "19398   Samsung        Galaxy S7 Edge               0\n",
       "19399    iPhone                    6S               0\n",
       "19400    iPhone                     5               0\n",
       "19401   Samsung        Galaxy S7 Edge               0\n",
       "19402    iPhone                     6               0\n",
       "19403   Samsung        Galaxy A7 2017               0\n",
       "19404   Samsung             Galaxy J5               0\n",
       "19405   Samsung             Galaxy S8               0\n",
       "19406  Motorola   Moto X Play 4G Dual               0\n",
       "19407   Samsung        Galaxy S6 Flat               0\n",
       "19408    iPhone                    6S               0\n",
       "19409  Motorola          Moto G4 Plus               0\n",
       "19410  Motorola          Moto G4 Plus               0\n",
       "19411  Motorola            Moto G3 4G               0\n",
       "19412   Samsung        Galaxy A5 2017               0\n",
       "19413    iPhone                7 Plus               0\n",
       "\n",
       "[19414 rows x 3 columns]"
      ]
     },
     "execution_count": 71,
     "metadata": {},
     "output_type": "execute_result"
    }
   ],
   "source": [
    "df_final[[\"marca\",\"modelo\",\"is_other_model\"]]"
   ]
  },
  {
   "cell_type": "code",
   "execution_count": null,
   "metadata": {},
   "outputs": [],
   "source": []
  }
 ],
 "metadata": {
  "kernelspec": {
   "display_name": "Python 3",
   "language": "python",
   "name": "python3"
  },
  "language_info": {
   "codemirror_mode": {
    "name": "ipython",
    "version": 3
   },
   "file_extension": ".py",
   "mimetype": "text/x-python",
   "name": "python",
   "nbconvert_exporter": "python",
   "pygments_lexer": "ipython3",
   "version": "3.7.3"
  }
 },
 "nbformat": 4,
 "nbformat_minor": 2
}
