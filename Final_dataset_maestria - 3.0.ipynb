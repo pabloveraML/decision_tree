{
 "cells": [
  {
   "cell_type": "markdown",
   "metadata": {},
   "source": [
    "## Cargamos todas las bibliotecas necesarias para ejecutar todos los métodos del jupyter. "
   ]
  },
  {
   "cell_type": "markdown",
   "metadata": {},
   "source": [
    "Es buena costumbre cargarlos al principio, asi no se estar cargando en memoria repetidas veces cada paquete"
   ]
  },
  {
   "cell_type": "code",
   "execution_count": 1,
   "metadata": {},
   "outputs": [],
   "source": [
    "import pandas as pd\n",
    "import numpy as np\n",
    "\n",
    "from sklearn.tree import DecisionTreeClassifier\n",
    "from sklearn.metrics import accuracy_score\n",
    "from sklearn.metrics import roc_auc_score\n",
    "from sklearn.metrics import roc_curve\n",
    "from sklearn.model_selection import cross_validate\n",
    "\n",
    "from sklearn.externals.six import StringIO  \n",
    "from IPython.display import Image  \n",
    "from sklearn.tree import export_graphviz\n",
    "import pydotplus\n",
    "\n",
    "import matplotlib.pyplot as plt\n",
    "import seaborn as sns\n",
    "%matplotlib inline"
   ]
  },
  {
   "cell_type": "markdown",
   "metadata": {},
   "source": [
    "### Creación de funciones auxiliares"
   ]
  },
  {
   "cell_type": "code",
   "execution_count": 2,
   "metadata": {},
   "outputs": [],
   "source": [
    "def discretize(df, column):\n",
    "    q1 = df_final[column].quantile(.25)\n",
    "    q2 = df_final[column].quantile(.5)\n",
    "    q3 = df_final[column].quantile(.75)\n",
    "    df[column+\"_in_q1\"] = 0\n",
    "    df[column+\"_in_q2\"] = 0\n",
    "    df[column+\"_in_q3\"] = 0\n",
    "    df[column+\"_in_q4\"] = 0\n",
    "    df[column+\"_in_q1\"] = list(map(lambda x: 1 if x <=q1 else 0, df[column]))\n",
    "    df[column+\"_in_q2\"] = list(map(lambda x: 1 if (q1 < x and x <=q2) else 0, df[column]))\n",
    "    df[column+\"_in_q3\"] = list(map(lambda x: 1 if (q2 < x and x <=q3) else 0, df[column]))\n",
    "    df[column+\"_in_q4\"] = list(map(lambda x: 1 if x>q3 else 0, df[column]))\n",
    "    df.drop(column, axis=1, inplace=True)\n",
    "    return df"
   ]
  },
  {
   "cell_type": "code",
   "execution_count": 3,
   "metadata": {},
   "outputs": [],
   "source": [
    "def is_object(df,column,object_name):\n",
    "    df[\"is_\"+str(object_name)] = list(map(lambda x: 1 if x == object_name else 0, df[column]))\n",
    "    return df\n",
    "    "
   ]
  },
  {
   "cell_type": "markdown",
   "metadata": {},
   "source": [
    "## Cargamos los datasets para construir el dataset final"
   ]
  },
  {
   "cell_type": "code",
   "execution_count": 4,
   "metadata": {},
   "outputs": [],
   "source": [
    "df_first = pd.read_csv('first_part_dataset.csv')\n",
    "\n",
    "df_second = pd.read_csv('second_part_dataset.csv')\n",
    "\n",
    "df_thrid = pd.read_csv('thrid_part_dataset.csv')"
   ]
  },
  {
   "cell_type": "code",
   "execution_count": 5,
   "metadata": {},
   "outputs": [],
   "source": [
    "df_first = df_first.rename(columns={'person_id': 'person'})\n",
    "\n",
    "df_first = df_first.drop(columns=['Unnamed: 0'])"
   ]
  },
  {
   "cell_type": "code",
   "execution_count": 6,
   "metadata": {},
   "outputs": [
    {
     "data": {
      "text/plain": [
       "array(['Unnamed: 0', 'person', 'diff_time_days_minnone',\n",
       "       'diff_time_daysnone', 'diff_time_dayscheckout',\n",
       "       'diff_time_daysconversion', 'diff_time_daysbrand listing',\n",
       "       'diff_time_dayssearch engine hit', 'diff_time_start_end', 'model',\n",
       "       'number_visits_model'], dtype=object)"
      ]
     },
     "execution_count": 6,
     "metadata": {},
     "output_type": "execute_result"
    }
   ],
   "source": [
    "df_second.columns.values"
   ]
  },
  {
   "cell_type": "code",
   "execution_count": 7,
   "metadata": {},
   "outputs": [],
   "source": [
    "df_second = df_second.drop(columns=['Unnamed: 0'])"
   ]
  },
  {
   "cell_type": "code",
   "execution_count": 8,
   "metadata": {},
   "outputs": [
    {
     "data": {
      "text/plain": [
       "array(['Unnamed: 0', 'person', 'COUNT(users_logs)', 'avg_time_events'],\n",
       "      dtype=object)"
      ]
     },
     "execution_count": 8,
     "metadata": {},
     "output_type": "execute_result"
    }
   ],
   "source": [
    "df_thrid.columns.values"
   ]
  },
  {
   "cell_type": "code",
   "execution_count": 9,
   "metadata": {},
   "outputs": [],
   "source": [
    "df_thrid = df_thrid.drop(columns=['Unnamed: 0'])"
   ]
  },
  {
   "cell_type": "code",
   "execution_count": 10,
   "metadata": {},
   "outputs": [],
   "source": [
    "df_final = pd.merge(df_first, df_second, on='person', how='left')\n",
    "\n",
    "df_final = pd.merge(df_final, df_thrid, on='person', how='left')"
   ]
  },
  {
   "cell_type": "code",
   "execution_count": 11,
   "metadata": {},
   "outputs": [
    {
     "data": {
      "text/plain": [
       "array(['Android', 'BlackBerry', 'Chrome', 'Computer', 'FreeBSD', 'Linux',\n",
       "       'Mac', 'Other', 'Smartphone', 'Tablet', 'Tizen', 'Ubuntu',\n",
       "       'Unknown', 'Windows', 'ad campaign hit', 'brand listing',\n",
       "       'checkout', 'conversion', 'generic listing', 'iOS', 'lead',\n",
       "       'search engine hit', 'searched products', 'staticpage', 'target',\n",
       "       'viewed product', 'visited site', 'person',\n",
       "       'diff_time_days_minnone', 'diff_time_daysnone',\n",
       "       'diff_time_dayscheckout', 'diff_time_daysconversion',\n",
       "       'diff_time_daysbrand listing', 'diff_time_dayssearch engine hit',\n",
       "       'diff_time_start_end', 'model', 'number_visits_model',\n",
       "       'COUNT(users_logs)', 'avg_time_events'], dtype=object)"
      ]
     },
     "execution_count": 11,
     "metadata": {},
     "output_type": "execute_result"
    }
   ],
   "source": [
    "df_final.columns.values"
   ]
  },
  {
   "cell_type": "markdown",
   "metadata": {},
   "source": [
    "Significado de las columnas:\n",
    "\n",
    " - Las columnas 'Android', 'BlackBerry', 'Chrome', 'FreeBSD', 'Linux', 'Mac', 'Tizen', 'Ubuntu', 'Unknown', 'Windows','iOS' indican la cantidad de veces que cada usuario ingreso a la pagina de Trocafone utilizando uno de esos esos sistemas operativos. Por ejemplo, si el valor de 'Android' para un usuario es 2 siginfica que ese usuario entro a la pagina dos veces desde un dispositivo con un sistema operativo Android\n",
    " \n",
    " - Las columnas 'Computer', 'Smartphone', 'Tablet' indican la cantidad de veces que cada usuario ingreso a la pagina de Trocafone utilizando uno de esos dispositivos\n",
    " \n",
    " - Las columnas 'ad campaign hit', 'brand listing', 'checkout', 'conversion', 'generic listing', 'lead','search engine hit', 'searched products', 'staticpage','viewed product', 'visited site' indican la cantidad de veces que cada usuario realizo cada uno de esos eventos\n",
    " \n",
    " - La columna 'diff_time_days_minnone' indica la cantidad de tiempo que paso desde el primer evento que realizo el usuario hasta el 2018/06/01\n",
    " \n",
    " - La columna 'diff_time_daysnone' indica la cantidad de tiempo que paso desde el ultimo evento que el usuario realizo en la pagina hasta el 2018/06/01\n",
    " \n",
    " - La columna 'diff_time_dayscheckout' indica la cantidad de tiempo que paso desde que el usuario realizo el ultimo checkout hasta el 2018/06/01\n",
    " \n",
    " - La columna 'diff_time_daysconversion' indica la cantidad de tiempo que paso desde que el usuario realizo la ultima conversion hasta el 2018/06/01\n",
    " \n",
    " - La columna 'diff_time_daysbrand listing' indica la cantidad de tiempo que paso desde que el usuario realizo la ultima brand listing hasta el 2018/06/01\n",
    " \n",
    " - La columna 'diff_time_dayssearch engine hit' indica la cantidad de tiempo que paso desde que el usuario realizo el ultimo engine hit hasta el 2018/06/01\n",
    " \n",
    " - La columna 'diff_time_start_end' indica la cantidad de tiempo que paso entre el primer evento que realizo el usuario en la pagina y el ultimo\n",
    " \n",
    " - La columna 'model' indica el modelo de celuar que el usuario mas veces visito\n",
    " \n",
    " - La columna 'number_visits_model' indica cuantas veces el usuario visito el celular que mas visito\n",
    " \n",
    " - La columna 'COUNT(users_logs)' indica la cantidad de eventos que el usuario realizo en la pagina\n",
    " \n",
    " - La columna 'avg_time_events' indica el tiempo promedio que paso entre los eventos realizados por cada usuario"
   ]
  },
  {
   "cell_type": "markdown",
   "metadata": {},
   "source": [
    "## Reemplazamos con zeros los NaNs"
   ]
  },
  {
   "cell_type": "code",
   "execution_count": 12,
   "metadata": {},
   "outputs": [],
   "source": [
    "df_final.fillna(value=0,inplace=True)"
   ]
  },
  {
   "cell_type": "markdown",
   "metadata": {},
   "source": [
    "### Eliminamos las columnas con muy pocas variables o alta corrleación (Ej. Windows ~ Computer)"
   ]
  },
  {
   "cell_type": "code",
   "execution_count": 13,
   "metadata": {},
   "outputs": [],
   "source": [
    "df_final.drop([\"BlackBerry\",\"Chrome\",\"FreeBSD\",\"Linux\",\"Mac\",\"Other\",\"Tizen\",\"Ubuntu\",\"Unknown\",\"Windows\"],\n",
    "              axis=1,\n",
    "              inplace=True)"
   ]
  },
  {
   "cell_type": "markdown",
   "metadata": {},
   "source": [
    "### Transformamos algunas columnas para que su distribución se ajuste a una Chi cuadrado o Normal. Luego discretizamos por cuantiles"
   ]
  },
  {
   "cell_type": "code",
   "execution_count": 14,
   "metadata": {},
   "outputs": [],
   "source": [
    "df_final.loc[:,\"diff_time_daysnone\"] = np.log10(df_final[\"diff_time_daysnone\"]+1.)\n",
    "df_final.loc[:,\"diff_time_days_minnone\"] = np.log10(df_final.diff_time_days_minnone+1.)\n",
    "df_final.loc[:,\"diff_time_dayssearch engine hit\"] = np.log10(df_final[\"diff_time_dayssearch engine hit\"]+1.0)\n",
    "df_final.loc[:,\"COUNT(users_logs)\"] = np.log10(df_final[\"COUNT(users_logs)\"]+1.)\n",
    "df_final.loc[:,\"number_visits_model\"] = np.log10(1.+df_final.number_visits_model)\n",
    "df_final.loc[:,\"diff_time_daysbrand listing\"] = np.log10(01.+df_final[\"diff_time_daysbrand listing\"])"
   ]
  },
  {
   "cell_type": "code",
   "execution_count": 15,
   "metadata": {},
   "outputs": [],
   "source": [
    "for column in [\"diff_time_days_minnone\",\"diff_time_dayssearch engine hit\",\"COUNT(users_logs)\",\"number_visits_model\",\"diff_time_daysbrand listing\",\"diff_time_daysnone\"]:\n",
    "    df_final = discretize(df_final,column)\n",
    "    "
   ]
  },
  {
   "cell_type": "markdown",
   "metadata": {},
   "source": [
    "### La columna `model` contiene una concatenación de `marca `+` modelo`. "
   ]
  },
  {
   "cell_type": "markdown",
   "metadata": {},
   "source": [
    "Separando esta columna podemos detectar qué marcas son las más populares y qué modelos (dentro de cada marca) son los más buscados"
   ]
  },
  {
   "cell_type": "code",
   "execution_count": 16,
   "metadata": {},
   "outputs": [],
   "source": [
    "df_final[\"marca\"] = df_final.model.str.split(\" \",1,expand=True)[0]\n",
    "df_final[\"modelo\"] = df_final.model.str.split(\" \",1,expand=True)[1]"
   ]
  },
  {
   "cell_type": "code",
   "execution_count": 17,
   "metadata": {},
   "outputs": [
    {
     "data": {
      "text/plain": [
       "iPhone      8017\n",
       "Samsung     7663\n",
       "Motorola    2257\n",
       "LG           301\n",
       "Lenovo       146\n",
       "Sony         108\n",
       "iPad          36\n",
       "Asus          31\n",
       "Quantum       11\n",
       "Name: marca, dtype: int64"
      ]
     },
     "execution_count": 17,
     "metadata": {},
     "output_type": "execute_result"
    }
   ],
   "source": [
    "df_final[\"marca\"].value_counts()"
   ]
  },
  {
   "cell_type": "code",
   "execution_count": 18,
   "metadata": {
    "scrolled": true
   },
   "outputs": [
    {
     "data": {
      "text/plain": [
       "6                               1752\n",
       "5s                              1639\n",
       "6S                              1361\n",
       "Galaxy J5                       1022\n",
       "7                                703\n",
       "7 Plus                           613\n",
       "Galaxy S8                        609\n",
       "Galaxy S7                        604\n",
       "Galaxy S7 Edge                   603\n",
       "Galaxy J7 Prime                  489\n",
       "Moto G2 3G Dual                  404\n",
       "Galaxy S6 Edge                   393\n",
       "Galaxy S6 Flat                   386\n",
       "5c                               352\n",
       "6S Plus                          344\n",
       "Galaxy J7                        337\n",
       "6 Plus                           337\n",
       "Moto G4 Plus                     313\n",
       "SE                               311\n",
       "Galaxy Gran Prime Duos TV        245\n",
       "4S                               232\n",
       "Galaxy S8 Plus                   230\n",
       "5                                223\n",
       "Moto G3 4G                       191\n",
       "Galaxy A5 2017                   185\n",
       "Moto X Play 4G Dual              174\n",
       "Moto G5 Plus                     169\n",
       "Galaxy A7 2017                   164\n",
       "Moto X2                          160\n",
       "Galaxy A5                        155\n",
       "                                ... \n",
       "Xperia Z5                          5\n",
       "Galaxy Note Edge                   5\n",
       "Moto Z Power Edition               4\n",
       "Air Wi-Fi + 4G                     3\n",
       "Air 2 Wi-Fi + 4G                   3\n",
       "Galaxy J7 PRO                      3\n",
       "Galaxy S5 Mini                     2\n",
       "Air 2 Wi-Fi                        2\n",
       "G4 Stylus H630                     2\n",
       "Moto Z2 Force                      2\n",
       "Air Wi-Fi                          2\n",
       "Muv Pro                            2\n",
       "2 Wi-Fi + 3G                       2\n",
       "Zenfone 6                          2\n",
       "Galaxy Tab 3 10.1 Wi-Fi + 3G       2\n",
       "Galaxy Tab S 8.4 Wi-Fi + 4G        1\n",
       "Galaxy Tab E 7 Wi-Fi               1\n",
       "Galaxy S4 i9500                    1\n",
       "Mini Wi-Fi                         1\n",
       "Galaxy Tab S2 8 Wi-Fi + 4G         1\n",
       "Live                               1\n",
       "YOU                                1\n",
       "Zenfone 2 Laser                    1\n",
       "Xperia Z5 Premium                  1\n",
       "Galaxy Tab Pro 10.1 Wi-Fi          1\n",
       "Mini 3 Wi-Fi + 4G                  1\n",
       "Galaxy Tab E 9.6 Wi-Fi             1\n",
       "X Power                            1\n",
       "Muv                                1\n",
       "Mini 3 Wi-Fi                       1\n",
       "Name: modelo, Length: 162, dtype: int64"
      ]
     },
     "execution_count": 18,
     "metadata": {},
     "output_type": "execute_result"
    }
   ],
   "source": [
    "df_final[\"modelo\"].value_counts()"
   ]
  },
  {
   "cell_type": "code",
   "execution_count": 19,
   "metadata": {},
   "outputs": [],
   "source": [
    "df_final[\"is_iphone\"] = list(map(lambda x: 1 if x==\"iPhone\" else 0, df_final[\"marca\"]))\n",
    "df_final[\"is_samsung\"] = list(map(lambda x: 1 if x==\"Samsung\" else 0, df_final[\"marca\"]))\n",
    "df_final[\"is_motorola\"] = list(map(lambda x: 1 if x==\"Motorola\" else 0, df_final[\"marca\"]))\n",
    "df_final[\"is_lg\"] = list(map(lambda x: 1 if x==\"LG\" else 0, df_final[\"marca\"]))\n",
    "df_final[\"is_sony\"] = list(map(lambda x: 1 if x==\"Sony\" else 0, df_final[\"marca\"]))\n",
    "df_final[\"is_other\"] = list(map(lambda x: 1 if (x!=\"Sony\" and x!=\"LG\" and x!=\"Motorola\" and x!=\"Samsung\" and x!=\"iPhone\") else 0, df_final[\"marca\"]))\n"
   ]
  },
  {
   "cell_type": "code",
   "execution_count": 20,
   "metadata": {},
   "outputs": [],
   "source": [
    "pop_models = ['6','5s','6S','Galaxy J5','7','7 Plus','Galaxy S8','Galaxy S7','Galaxy S7 Edge','Galaxy J7 Prime','Moto G2 3G Dual','Galaxy S6 Edge','Galaxy S6 Flat','5c','6S Plus','Galaxy J7','6 Plus','Moto G4 Plus','SE','Galaxy Gran Prime Duos TV','4S','Galaxy S8 Plus','5','Moto G3 4G','Galaxy A5 2017','Moto X Play 4G Dual','Moto G5 Plus','Galaxy A7 2017','Moto X2','Galaxy A5']"
   ]
  },
  {
   "cell_type": "code",
   "execution_count": 21,
   "metadata": {},
   "outputs": [],
   "source": [
    "for model in pop_models:\n",
    "    df_final = is_object(df_final,\"modelo\",model)"
   ]
  },
  {
   "cell_type": "code",
   "execution_count": 22,
   "metadata": {},
   "outputs": [],
   "source": [
    "df_final[\"is_other_model\"] = list(map(lambda x: 1 if x not in pop_models else 0, df_final[\"modelo\"]))"
   ]
  },
  {
   "cell_type": "markdown",
   "metadata": {},
   "source": [
    "### Eliminamos las columnas que contienen strings, previamente preprocesadas"
   ]
  },
  {
   "cell_type": "code",
   "execution_count": 23,
   "metadata": {},
   "outputs": [],
   "source": [
    "df_final.drop([\"model\",\"person\",\"marca\",\"modelo\"],axis=1,inplace=True)"
   ]
  },
  {
   "cell_type": "markdown",
   "metadata": {},
   "source": [
    "### Analizamos la distribución de categorías en el dataset crudo"
   ]
  },
  {
   "cell_type": "code",
   "execution_count": 24,
   "metadata": {},
   "outputs": [
    {
     "data": {
      "text/plain": [
       "0.0    18434\n",
       "1.0      980\n",
       "Name: target, dtype: int64"
      ]
     },
     "execution_count": 24,
     "metadata": {},
     "output_type": "execute_result"
    }
   ],
   "source": [
    "df_final['target'].value_counts()"
   ]
  },
  {
   "cell_type": "markdown",
   "metadata": {},
   "source": [
    "### Vamos a seleccionar solo 980 casos que no realizaron una compra para balancear el dataset"
   ]
  },
  {
   "cell_type": "code",
   "execution_count": 25,
   "metadata": {},
   "outputs": [
    {
     "name": "stdout",
     "output_type": "stream",
     "text": [
      "980\n"
     ]
    }
   ],
   "source": [
    "df_train = df_final[df_final['target']==1]\n",
    "\n",
    "print(len(df_train.index))"
   ]
  },
  {
   "cell_type": "code",
   "execution_count": 26,
   "metadata": {},
   "outputs": [
    {
     "name": "stdout",
     "output_type": "stream",
     "text": [
      "980\n"
     ]
    }
   ],
   "source": [
    "df_final_reduced_0 = df_final[df_final['target']==0].sample(n=980, random_state=1)\n",
    "\n",
    "print(len(df_final_reduced_0.index))"
   ]
  },
  {
   "cell_type": "code",
   "execution_count": 27,
   "metadata": {},
   "outputs": [],
   "source": [
    "df_train = pd.concat([df_train, df_final_reduced_0])\n",
    "\n",
    "del df_final_reduced_0"
   ]
  },
  {
   "cell_type": "markdown",
   "metadata": {},
   "source": [
    "### Nos quedamos con aquellas columnas que no sean target"
   ]
  },
  {
   "cell_type": "code",
   "execution_count": 28,
   "metadata": {},
   "outputs": [],
   "source": [
    "feature_columns = list(set(df_train.columns.tolist())-set([\"target\"]))"
   ]
  },
  {
   "cell_type": "markdown",
   "metadata": {},
   "source": [
    "### Obtenemos el dataset de test y lo eliminamos del dataset de train"
   ]
  },
  {
   "cell_type": "code",
   "execution_count": 29,
   "metadata": {},
   "outputs": [],
   "source": [
    "df_test = df_train.sample(frac=0.2, random_state=2)\n",
    "df_train.drop(df_test.index,axis=0,inplace=True)"
   ]
  },
  {
   "cell_type": "markdown",
   "metadata": {},
   "source": [
    "### Verificamos el balance de categorías en cada datset"
   ]
  },
  {
   "cell_type": "code",
   "execution_count": 30,
   "metadata": {},
   "outputs": [],
   "source": [
    "N_train = df_train.shape[0]*1.\n",
    "N_test = df_test.shape[0]*1.\n",
    "\n",
    "N_train_1 = df_train.target.sum()\n",
    "N_train_0 = df_train.shape[0]*1.-N_train_1\n",
    "\n",
    "N_test_1 = df_test.target.sum()\n",
    "N_test_0 = df_test.shape[0]*1.-N_test_1"
   ]
  },
  {
   "cell_type": "code",
   "execution_count": 31,
   "metadata": {},
   "outputs": [
    {
     "name": "stdout",
     "output_type": "stream",
     "text": [
      "Porcentaje de casos positivos en el train: %50.255102040816325\n",
      "Porcentaje de casos positivos en el test: %48.97959183673469\n"
     ]
    }
   ],
   "source": [
    "print(\"Porcentaje de casos positivos en el train: %\" + str(100.0*N_train_1/N_train))\n",
    "print(\"Porcentaje de casos positivos en el test: %\" + str(100.0*N_test_1/N_test))"
   ]
  },
  {
   "cell_type": "markdown",
   "metadata": {},
   "source": [
    "## Utilizando únicamente el dataset de train ejecutamos 5-fold Cross Validation"
   ]
  },
  {
   "cell_type": "code",
   "execution_count": 32,
   "metadata": {},
   "outputs": [],
   "source": [
    "scoring = ['accuracy','roc_auc']"
   ]
  },
  {
   "cell_type": "code",
   "execution_count": 44,
   "metadata": {},
   "outputs": [],
   "source": [
    "dtree = DecisionTreeClassifier(max_depth=3, criterion='entropy') "
   ]
  },
  {
   "cell_type": "code",
   "execution_count": 45,
   "metadata": {},
   "outputs": [],
   "source": [
    "scores = cross_validate(dtree, # Instancia de árbol a entrenar en cada fold\n",
    "                        df_train[feature_columns].values, # X_train features\n",
    "                        df_train[\"target\"].values, # Y_train targets\n",
    "                        scoring=scoring, # Pedimos que para fold se ejecute esta lista de scorings\n",
    "                        return_train_score = True, # Queremos ver los scorings de los training folds\n",
    "                        return_estimator = True, # Ademas, pedimos que se nos devuelvan los dtrees de entrenados\n",
    "                        cv=5, # Establecemos la cantidad de particiones para realizar la Validación cruzada\n",
    "                        n_jobs = -1 # Pedimos que se ejecute en paralelo, utilizando todos los cores\n",
    "                       )\n",
    "\n"
   ]
  },
  {
   "cell_type": "markdown",
   "metadata": {},
   "source": [
    "### Cargamos los resultados en un DF de Pandas"
   ]
  },
  {
   "cell_type": "code",
   "execution_count": 46,
   "metadata": {},
   "outputs": [],
   "source": [
    "cv_5_fold_resultados = pd.DataFrame(scores)"
   ]
  },
  {
   "cell_type": "code",
   "execution_count": 47,
   "metadata": {},
   "outputs": [],
   "source": [
    "cv_5_fold_resultados.drop([\"fit_time\",\"score_time\",\"estimator\"],axis=1,inplace=True)"
   ]
  },
  {
   "cell_type": "code",
   "execution_count": 48,
   "metadata": {},
   "outputs": [
    {
     "data": {
      "text/html": [
       "<div>\n",
       "<style scoped>\n",
       "    .dataframe tbody tr th:only-of-type {\n",
       "        vertical-align: middle;\n",
       "    }\n",
       "\n",
       "    .dataframe tbody tr th {\n",
       "        vertical-align: top;\n",
       "    }\n",
       "\n",
       "    .dataframe thead th {\n",
       "        text-align: right;\n",
       "    }\n",
       "</style>\n",
       "<table border=\"1\" class=\"dataframe\">\n",
       "  <thead>\n",
       "    <tr style=\"text-align: right;\">\n",
       "      <th></th>\n",
       "      <th>test_accuracy</th>\n",
       "      <th>train_accuracy</th>\n",
       "      <th>test_roc_auc</th>\n",
       "      <th>train_roc_auc</th>\n",
       "    </tr>\n",
       "  </thead>\n",
       "  <tbody>\n",
       "    <tr>\n",
       "      <th>0</th>\n",
       "      <td>0.786624</td>\n",
       "      <td>0.765550</td>\n",
       "      <td>0.821750</td>\n",
       "      <td>0.831958</td>\n",
       "    </tr>\n",
       "    <tr>\n",
       "      <th>1</th>\n",
       "      <td>0.767516</td>\n",
       "      <td>0.764753</td>\n",
       "      <td>0.852686</td>\n",
       "      <td>0.826109</td>\n",
       "    </tr>\n",
       "    <tr>\n",
       "      <th>2</th>\n",
       "      <td>0.710191</td>\n",
       "      <td>0.784689</td>\n",
       "      <td>0.746734</td>\n",
       "      <td>0.844177</td>\n",
       "    </tr>\n",
       "    <tr>\n",
       "      <th>3</th>\n",
       "      <td>0.760383</td>\n",
       "      <td>0.772112</td>\n",
       "      <td>0.814572</td>\n",
       "      <td>0.829870</td>\n",
       "    </tr>\n",
       "    <tr>\n",
       "      <th>4</th>\n",
       "      <td>0.769968</td>\n",
       "      <td>0.768924</td>\n",
       "      <td>0.809713</td>\n",
       "      <td>0.834916</td>\n",
       "    </tr>\n",
       "  </tbody>\n",
       "</table>\n",
       "</div>"
      ],
      "text/plain": [
       "   test_accuracy  train_accuracy  test_roc_auc  train_roc_auc\n",
       "0       0.786624        0.765550      0.821750       0.831958\n",
       "1       0.767516        0.764753      0.852686       0.826109\n",
       "2       0.710191        0.784689      0.746734       0.844177\n",
       "3       0.760383        0.772112      0.814572       0.829870\n",
       "4       0.769968        0.768924      0.809713       0.834916"
      ]
     },
     "execution_count": 48,
     "metadata": {},
     "output_type": "execute_result"
    }
   ],
   "source": [
    "cv_5_fold_resultados"
   ]
  },
  {
   "cell_type": "markdown",
   "metadata": {},
   "source": [
    "### Calculamos los estadisticos de cada experimento, tanto para train como para test"
   ]
  },
  {
   "cell_type": "code",
   "execution_count": 49,
   "metadata": {},
   "outputs": [
    {
     "data": {
      "text/html": [
       "<div>\n",
       "<style scoped>\n",
       "    .dataframe tbody tr th:only-of-type {\n",
       "        vertical-align: middle;\n",
       "    }\n",
       "\n",
       "    .dataframe tbody tr th {\n",
       "        vertical-align: top;\n",
       "    }\n",
       "\n",
       "    .dataframe thead th {\n",
       "        text-align: right;\n",
       "    }\n",
       "</style>\n",
       "<table border=\"1\" class=\"dataframe\">\n",
       "  <thead>\n",
       "    <tr style=\"text-align: right;\">\n",
       "      <th></th>\n",
       "      <th>test_accuracy</th>\n",
       "      <th>train_accuracy</th>\n",
       "      <th>test_roc_auc</th>\n",
       "      <th>train_roc_auc</th>\n",
       "    </tr>\n",
       "  </thead>\n",
       "  <tbody>\n",
       "    <tr>\n",
       "      <th>count</th>\n",
       "      <td>5.000000</td>\n",
       "      <td>5.000000</td>\n",
       "      <td>5.000000</td>\n",
       "      <td>5.000000</td>\n",
       "    </tr>\n",
       "    <tr>\n",
       "      <th>mean</th>\n",
       "      <td>0.758937</td>\n",
       "      <td>0.771206</td>\n",
       "      <td>0.809091</td>\n",
       "      <td>0.833406</td>\n",
       "    </tr>\n",
       "    <tr>\n",
       "      <th>std</th>\n",
       "      <td>0.028897</td>\n",
       "      <td>0.008085</td>\n",
       "      <td>0.038664</td>\n",
       "      <td>0.006822</td>\n",
       "    </tr>\n",
       "    <tr>\n",
       "      <th>min</th>\n",
       "      <td>0.710191</td>\n",
       "      <td>0.764753</td>\n",
       "      <td>0.746734</td>\n",
       "      <td>0.826109</td>\n",
       "    </tr>\n",
       "    <tr>\n",
       "      <th>25%</th>\n",
       "      <td>0.760383</td>\n",
       "      <td>0.765550</td>\n",
       "      <td>0.809713</td>\n",
       "      <td>0.829870</td>\n",
       "    </tr>\n",
       "    <tr>\n",
       "      <th>50%</th>\n",
       "      <td>0.767516</td>\n",
       "      <td>0.768924</td>\n",
       "      <td>0.814572</td>\n",
       "      <td>0.831958</td>\n",
       "    </tr>\n",
       "    <tr>\n",
       "      <th>75%</th>\n",
       "      <td>0.769968</td>\n",
       "      <td>0.772112</td>\n",
       "      <td>0.821750</td>\n",
       "      <td>0.834916</td>\n",
       "    </tr>\n",
       "    <tr>\n",
       "      <th>max</th>\n",
       "      <td>0.786624</td>\n",
       "      <td>0.784689</td>\n",
       "      <td>0.852686</td>\n",
       "      <td>0.844177</td>\n",
       "    </tr>\n",
       "  </tbody>\n",
       "</table>\n",
       "</div>"
      ],
      "text/plain": [
       "       test_accuracy  train_accuracy  test_roc_auc  train_roc_auc\n",
       "count       5.000000        5.000000      5.000000       5.000000\n",
       "mean        0.758937        0.771206      0.809091       0.833406\n",
       "std         0.028897        0.008085      0.038664       0.006822\n",
       "min         0.710191        0.764753      0.746734       0.826109\n",
       "25%         0.760383        0.765550      0.809713       0.829870\n",
       "50%         0.767516        0.768924      0.814572       0.831958\n",
       "75%         0.769968        0.772112      0.821750       0.834916\n",
       "max         0.786624        0.784689      0.852686       0.844177"
      ]
     },
     "execution_count": 49,
     "metadata": {},
     "output_type": "execute_result"
    }
   ],
   "source": [
    "cv_5_fold_resultados.describe()"
   ]
  },
  {
   "cell_type": "markdown",
   "metadata": {},
   "source": [
    "### Seleccionamos el árbol que mejor accuracy haya tenido durante el train"
   ]
  },
  {
   "cell_type": "code",
   "execution_count": 50,
   "metadata": {},
   "outputs": [],
   "source": [
    "best_dtree_index = np.argmax(scores[\"test_accuracy\"])"
   ]
  },
  {
   "cell_type": "code",
   "execution_count": 51,
   "metadata": {},
   "outputs": [],
   "source": [
    "best_btree = scores[\"estimator\"][best_dtree_index]"
   ]
  },
  {
   "cell_type": "markdown",
   "metadata": {},
   "source": [
    "### Evaluamos su accuracy sobre el 20% restante del dataset que no formó parte del 5-fold CV"
   ]
  },
  {
   "cell_type": "code",
   "execution_count": 52,
   "metadata": {},
   "outputs": [],
   "source": [
    "y_esperado = df_test.target.values\n",
    "y_pred = best_btree.predict(df_test[feature_columns].values)"
   ]
  },
  {
   "cell_type": "code",
   "execution_count": 53,
   "metadata": {},
   "outputs": [
    {
     "name": "stdout",
     "output_type": "stream",
     "text": [
      "Score validation: 0.7857142857142857\n"
     ]
    }
   ],
   "source": [
    "print(\"Score validation: \" + str(accuracy_score(y_esperado, y_pred)))"
   ]
  },
  {
   "cell_type": "code",
   "execution_count": 54,
   "metadata": {},
   "outputs": [
    {
     "data": {
      "image/png": "[encoded data removed]",
      "text/plain": [
       "<IPython.core.display.Image object>"
      ]
     },
     "execution_count": 54,
     "metadata": {},
     "output_type": "execute_result"
    }
   ],
   "source": [
    "dot_data = StringIO()\n",
    "export_graphviz(best_btree, out_file=dot_data,  \n",
    "                filled=True, rounded=True,\n",
    "                special_characters=True)\n",
    "graph = pydotplus.graph_from_dot_data(dot_data.getvalue())  \n",
    "Image(graph.create_png())"
   ]
  },
  {
   "cell_type": "markdown",
   "metadata": {},
   "source": [
    "Obtenemos el dataset de \"work\", a partir del cual vamos a obtener el dataset de training y el de validacion"
   ]
  },
  {
   "cell_type": "code",
   "execution_count": null,
   "metadata": {},
   "outputs": [],
   "source": [
    "df_work = df_final_reduced.loc[~df_final_reduced.index.isin(df_test.index)]\n",
    "\n",
    "print(len(df_work.index))"
   ]
  },
  {
   "cell_type": "code",
   "execution_count": null,
   "metadata": {},
   "outputs": [],
   "source": [
    "df_work = df_work.sample(frac=1).reset_index(drop=True)"
   ]
  },
  {
   "cell_type": "code",
   "execution_count": null,
   "metadata": {},
   "outputs": [],
   "source": [
    "print(len(df_work.index))\n",
    "\n",
    "df_work.head(3)"
   ]
  },
  {
   "cell_type": "markdown",
   "metadata": {},
   "source": [
    "### Sacamos columnas que no son numericas"
   ]
  },
  {
   "cell_type": "code",
   "execution_count": null,
   "metadata": {},
   "outputs": [],
   "source": [
    "df_work = df_work.drop(columns=['person', 'model', 'marca', 'modelo'])"
   ]
  },
  {
   "cell_type": "markdown",
   "metadata": {},
   "source": [
    "### Agregamos una columna al dataset que indica a que fold pertenece"
   ]
  },
  {
   "cell_type": "code",
   "execution_count": null,
   "metadata": {},
   "outputs": [],
   "source": [
    "def generate_number_fold(dataframe, number_folds):\n",
    "    \n",
    "    number_rows = len(dataframe.index)\n",
    "    \n",
    "    rows_per_fold = round(number_rows/number_folds)\n",
    "    \n",
    "    array_number_folds = []\n",
    "    \n",
    "    index = 1\n",
    "    \n",
    "    while index < (number_folds + 1):\n",
    "        \n",
    "        if (number_folds - index) == 1:\n",
    "            \n",
    "            array_numbers = [index] * (number_rows - rows_per_fold*index)\n",
    "        \n",
    "            array_number_folds = array_number_folds + array_numbers\n",
    "            \n",
    "        else:\n",
    "            \n",
    "            array_numbers = [index] * rows_per_fold\n",
    "\n",
    "            array_number_folds = array_number_folds + array_numbers\n",
    "            \n",
    "        index = index + 1\n",
    "\n",
    "    dataframe['folds'] = array_number_folds\n",
    "    \n",
    "    return dataframe\n",
    "        "
   ]
  },
  {
   "cell_type": "markdown",
   "metadata": {},
   "source": [
    "### Filtramos por los folds que generamos con generate_number_fold() y vamos calculando las metricas que necesitamos tanto para training como para validation"
   ]
  },
  {
   "cell_type": "code",
   "execution_count": null,
   "metadata": {},
   "outputs": [],
   "source": [
    "def applied_cross_validation_dt(dataframe, number_folds, depth, criterion):\n",
    "    \n",
    "    df_folds = generate_number_fold(dataframe, number_folds)\n",
    "    \n",
    "    index = 1\n",
    "    \n",
    "    array_accuracy_training = []\n",
    "    \n",
    "    array_accuracy_val = []\n",
    "    \n",
    "    array_auc_training = []\n",
    "    \n",
    "    array_auc_val = []\n",
    "    \n",
    "    while index < (number_folds + 1):\n",
    "        \n",
    "        df_specific_fold = df_folds[df_folds['folds']==index].drop(columns=['folds'])\n",
    "        \n",
    "        X = df_specific_fold.drop(columns=['target'])\n",
    "\n",
    "        y = df_specific_fold['target']\n",
    "        \n",
    "        train_X, test_X, train_y, test_y = train_test_split(X, y, \n",
    "                                                    train_size=0.7,\n",
    "                                                    test_size=0.3,\n",
    "                                                    random_state=123)\n",
    "        \n",
    "        dtree=DecisionTreeClassifier(criterion=criterion, max_depth=depth)\n",
    "        \n",
    "        dtree.fit(train_X, train_y)\n",
    "        \n",
    "        predictions_val = dtree.predict(test_X)\n",
    "        predictions_train = dtree.predict(train_X)\n",
    "        \n",
    "        proba_val = dtree.predict_proba(test_X)\n",
    "        proba_train = dtree.predict_proba(train_X)\n",
    "        \n",
    "        acc_val = accuracy_score(test_y, predictions_val)\n",
    "        acc_train = accuracy_score(train_y, predictions_train)\n",
    "        \n",
    "        auc_val = roc_auc_score(test_y, proba_val[:,1])\n",
    "        auc_train = roc_auc_score(train_y, proba_train[:,1])\n",
    "        \n",
    "        array_accuracy_val.append(acc_val)\n",
    "        \n",
    "        array_accuracy_training.append(acc_train)\n",
    "        \n",
    "        array_auc_training.append(auc_val)\n",
    "    \n",
    "        array_auc_val.append(auc_train)\n",
    "        \n",
    "        index = index + 1\n",
    "    \n",
    "    return array_accuracy_training, array_accuracy_val, array_auc_training, array_auc_val"
   ]
  },
  {
   "cell_type": "code",
   "execution_count": null,
   "metadata": {},
   "outputs": [],
   "source": [
    "applied_cross_validation_dt(df_work, 5, 3, 'gini')"
   ]
  },
  {
   "cell_type": "code",
   "execution_count": null,
   "metadata": {},
   "outputs": [],
   "source": [
    "def generate_table(acc_train, acc_val, auc_train, auc_val, criterion, depth, number_folds):\n",
    "    \n",
    "    d = {'acc_train': acc_train, 'acc_val': acc_val, 'auc_train': auc_train, 'auc_val': auc_val}\n",
    "    \n",
    "    df = pd.DataFrame(data=d)\n",
    "    \n",
    "    df['criterion'] = [criterion] * number_folds\n",
    "    \n",
    "    df['max_depth'] = [depth] * number_folds\n",
    "    \n",
    "    return df"
   ]
  },
  {
   "cell_type": "code",
   "execution_count": null,
   "metadata": {},
   "outputs": [],
   "source": [
    "acc_train_gini = applied_cross_validation_dt(df_work, 5, 3, 'gini')[0]\n",
    "\n",
    "acc_val_gini = applied_cross_validation_dt(df_work, 5, 3, 'gini')[1]\n",
    "\n",
    "auc_train_gini = applied_cross_validation_dt(df_work, 5, 3, 'gini')[2]\n",
    "\n",
    "auc_val_gini = applied_cross_validation_dt(df_work, 5, 3, 'gini')[3]\n",
    "\n",
    "df_gini_3 = generate_table(acc_train_gini, acc_val_gini, auc_train_gini, auc_val_gini, 'Gini', 3, 5)\n",
    "\n",
    "df_gini_3 = df_gini_3.append(df_gini_3.mean(numeric_only=True), ignore_index=True)\n",
    "\n",
    "df_gini_3"
   ]
  },
  {
   "cell_type": "code",
   "execution_count": null,
   "metadata": {},
   "outputs": [],
   "source": [
    "def highlight_total_row(s):\n",
    "    if s.B > 1.0:\n",
    "        return ['background-color: yellow']*5\n",
    " \n",
    "df.style.apply(highlight_greaterthan_1, axis=1)"
   ]
  },
  {
   "cell_type": "code",
   "execution_count": null,
   "metadata": {},
   "outputs": [],
   "source": [
    "acc_train_gini = applied_cross_validation_dt(df_work, 5, 6, 'gini')[0]\n",
    "\n",
    "acc_val_gini = applied_cross_validation_dt(df_work, 5, 6, 'gini')[1]\n",
    "\n",
    "auc_train_gini = applied_cross_validation_dt(df_work, 5, 6, 'gini')[2]\n",
    "\n",
    "auc_val_gini = applied_cross_validation_dt(df_work, 5, 6, 'gini')[3]\n",
    "\n",
    "generate_table(acc_train_gini, acc_val_gini, auc_train_gini, auc_val_gini, 'Gini', 6, 5)"
   ]
  },
  {
   "cell_type": "code",
   "execution_count": null,
   "metadata": {},
   "outputs": [],
   "source": []
  }
 ],
 "metadata": {
  "kernelspec": {
   "display_name": "Python 3",
   "language": "python",
   "name": "python3"
  },
  "language_info": {
   "codemirror_mode": {
    "name": "ipython",
    "version": 3
   },
   "file_extension": ".py",
   "mimetype": "text/x-python",
   "name": "python",
   "nbconvert_exporter": "python",
   "pygments_lexer": "ipython3",
   "version": "3.7.3"
  }
 },
 "nbformat": 4,
 "nbformat_minor": 2
}
